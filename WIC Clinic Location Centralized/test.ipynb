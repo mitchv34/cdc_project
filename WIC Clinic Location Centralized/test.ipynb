{
 "cells": [
  {
   "cell_type": "markdown",
   "metadata": {},
   "source": [
    "# Scrape https://www.wicprograms.org/\n",
    "\n",
    "First we scrape the state names from \"https://www.wicprograms.org/\" to create a list of urls to scrape."
   ]
  },
  {
   "cell_type": "code",
   "execution_count": 2,
   "metadata": {},
   "outputs": [],
   "source": [
    "import requests\n",
    "from bs4 import BeautifulSoup\n",
    "\n",
    "\n",
    "URL = \"https://www.wicprograms.org/\"\n",
    "r = requests.get(URL)\n",
    "soup = BeautifulSoup(r.content, 'html5lib')\n",
    "\n",
    "states = [option for option in soup.find_all('select')[0].find_all('option')][1:]\n",
    "states = [s.get('value') for s in states]"
   ]
  },
  {
   "cell_type": "markdown",
   "metadata": {},
   "source": [
    "## Use wayback machine to get change history of the WIC clinincs at the state level"
   ]
  },
  {
   "cell_type": "code",
   "execution_count": null,
   "metadata": {},
   "outputs": [],
   "source": [
    "! wayback-machine-scraper -a 'https://www.wicprograms.org/$' https://www.wicprograms.org/ -o './data/'"
   ]
  },
  {
   "cell_type": "markdown",
   "metadata": {},
   "source": [
    "This creates the following directory structure in `./data/`:\n",
    "\n",
    "```\n",
    "website/\n",
    "└── www.wicprograms.org\n",
    "       ├── 20101203122320.snapshot\n",
    "       ├── 20110202214735.snapshot\n",
    "       ...\n",
    "       └── 20220119003812.snapshot\n",
    "```\n",
    "\n",
    "Im goint to ignore the snapshots that are older than Jun 21 2012 since they do not contain the table of WIC clinics by state."
   ]
  },
  {
   "cell_type": "code",
   "execution_count": 21,
   "metadata": {},
   "outputs": [],
   "source": [
    "from os import listdir\n",
    "from os.path import isfile, join\n",
    "\n",
    "data_path = './data/www.wicprograms.org/'\n",
    "\n",
    "snapshots = [f for f in listdir(data_path) if isfile(join(data_path, f)) and f.endswith('.snapshot')]\n",
    "\n",
    "snapshots = [s for s in snapshots if int(s[:14]) > 20120620000000 ]"
   ]
  },
  {
   "cell_type": "code",
   "execution_count": 73,
   "metadata": {},
   "outputs": [],
   "source": [
    "from bs4 import BeautifulSoup\n",
    "import pandas as pd\n",
    "import re\n",
    "\n",
    "problem = []\n",
    "WIC_count_by_state = pd.DataFrame({'state': [], 'WIC_count': [], 'snapshot': []})\n",
    "for i in range(len(snapshots)):\n",
    "    with open(data_path + snapshots[i]) as fp:\n",
    "        soup = BeautifulSoup(fp, 'html.parser')\n",
    "    state_data = {'state': [], 'WIC_count': [], 'snapshot': []}\n",
    "    try:\n",
    "        table = soup.find_all('div', {'class':\"multicolumn\"})[0]\n",
    "    except:\n",
    "        table = soup.find_all(\"ul\", {'class':\"statelist\"})[0]\n",
    "    statte_list = table.find_all('a')\n",
    "    state_data['state'] = [s.text for s in statte_list]\n",
    "\n",
    "    program_count = table.find_all('em')\n",
    "    state_data['WIC_count'] = [int(\"\".join(filter(str.isdigit, p.text))) for p in program_count]\n",
    "\n",
    "    state_data['snapshot'] = pd.to_datetime([snapshots[0][:-9]]*len(state_data['state']))\n",
    "    state_data = pd.DataFrame(state_data).head()\n",
    "    WIC_count_by_state = pd.concat([WIC_count_by_state, state_data], ignore_index=True)"
   ]
  },
  {
   "cell_type": "code",
   "execution_count": 75,
   "metadata": {},
   "outputs": [
    {
     "data": {
      "text/html": [
       "<div>\n",
       "<style scoped>\n",
       "    .dataframe tbody tr th:only-of-type {\n",
       "        vertical-align: middle;\n",
       "    }\n",
       "\n",
       "    .dataframe tbody tr th {\n",
       "        vertical-align: top;\n",
       "    }\n",
       "\n",
       "    .dataframe thead th {\n",
       "        text-align: right;\n",
       "    }\n",
       "</style>\n",
       "<table border=\"1\" class=\"dataframe\">\n",
       "  <thead>\n",
       "    <tr style=\"text-align: right;\">\n",
       "      <th></th>\n",
       "      <th>state</th>\n",
       "      <th>WIC_count</th>\n",
       "      <th>snapshot</th>\n",
       "    </tr>\n",
       "  </thead>\n",
       "  <tbody>\n",
       "    <tr>\n",
       "      <th>0</th>\n",
       "      <td>Alaska</td>\n",
       "      <td>23.0</td>\n",
       "      <td>2016-05-07 05:16:11</td>\n",
       "    </tr>\n",
       "    <tr>\n",
       "      <th>1</th>\n",
       "      <td>Alabama</td>\n",
       "      <td>64.0</td>\n",
       "      <td>2016-05-07 05:16:11</td>\n",
       "    </tr>\n",
       "    <tr>\n",
       "      <th>2</th>\n",
       "      <td>Arkansas</td>\n",
       "      <td>50.0</td>\n",
       "      <td>2016-05-07 05:16:11</td>\n",
       "    </tr>\n",
       "    <tr>\n",
       "      <th>3</th>\n",
       "      <td>Arizona</td>\n",
       "      <td>134.0</td>\n",
       "      <td>2016-05-07 05:16:11</td>\n",
       "    </tr>\n",
       "    <tr>\n",
       "      <th>4</th>\n",
       "      <td>California</td>\n",
       "      <td>223.0</td>\n",
       "      <td>2016-05-07 05:16:11</td>\n",
       "    </tr>\n",
       "    <tr>\n",
       "      <th>...</th>\n",
       "      <td>...</td>\n",
       "      <td>...</td>\n",
       "      <td>...</td>\n",
       "    </tr>\n",
       "    <tr>\n",
       "      <th>810</th>\n",
       "      <td>Alabama</td>\n",
       "      <td>20.0</td>\n",
       "      <td>2016-05-07 05:16:11</td>\n",
       "    </tr>\n",
       "    <tr>\n",
       "      <th>811</th>\n",
       "      <td>Arkansas</td>\n",
       "      <td>50.0</td>\n",
       "      <td>2016-05-07 05:16:11</td>\n",
       "    </tr>\n",
       "    <tr>\n",
       "      <th>812</th>\n",
       "      <td>Arizona</td>\n",
       "      <td>132.0</td>\n",
       "      <td>2016-05-07 05:16:11</td>\n",
       "    </tr>\n",
       "    <tr>\n",
       "      <th>813</th>\n",
       "      <td>California</td>\n",
       "      <td>78.0</td>\n",
       "      <td>2016-05-07 05:16:11</td>\n",
       "    </tr>\n",
       "    <tr>\n",
       "      <th>814</th>\n",
       "      <td>Colorado</td>\n",
       "      <td>110.0</td>\n",
       "      <td>2016-05-07 05:16:11</td>\n",
       "    </tr>\n",
       "  </tbody>\n",
       "</table>\n",
       "<p>815 rows × 3 columns</p>\n",
       "</div>"
      ],
      "text/plain": [
       "          state  WIC_count            snapshot\n",
       "0        Alaska       23.0 2016-05-07 05:16:11\n",
       "1       Alabama       64.0 2016-05-07 05:16:11\n",
       "2      Arkansas       50.0 2016-05-07 05:16:11\n",
       "3       Arizona      134.0 2016-05-07 05:16:11\n",
       "4    California      223.0 2016-05-07 05:16:11\n",
       "..          ...        ...                 ...\n",
       "810     Alabama       20.0 2016-05-07 05:16:11\n",
       "811    Arkansas       50.0 2016-05-07 05:16:11\n",
       "812     Arizona      132.0 2016-05-07 05:16:11\n",
       "813  California       78.0 2016-05-07 05:16:11\n",
       "814    Colorado      110.0 2016-05-07 05:16:11\n",
       "\n",
       "[815 rows x 3 columns]"
      ]
     },
     "execution_count": 75,
     "metadata": {},
     "output_type": "execute_result"
    }
   ],
   "source": [
    "WIC_count_by_state"
   ]
  },
  {
   "cell_type": "markdown",
   "metadata": {},
   "source": [
    "We can track the changes in the number of WIC clinics by state:"
   ]
  },
  {
   "cell_type": "markdown",
   "metadata": {},
   "source": [
    "import seaborn as sns\n",
    "import matplotlib.pyplot as plt\n",
    "plt.style.use('classic')\n",
    "%matplotlib inline\n",
    "sns.set()\n",
    "\n",
    "x = WIC_count_by_state[WIC_count_by_state['state'] == 'Alabama'].snapshot\n",
    "y = WIC_count_by_state[WIC_count_by_state['state'] == 'Alabama'].WIC_count\n",
    "\n",
    "plt.plot(x, y)"
   ]
  },
  {
   "cell_type": "markdown",
   "metadata": {},
   "source": [
    "## Use Wayback Machine to get the all versions of each state's page"
   ]
  },
  {
   "cell_type": "code",
   "execution_count": null,
   "metadata": {},
   "outputs": [],
   "source": [
    "import os\n",
    "\n",
    "# for state in states:\n",
    "#     os.system(f\"wayback-machine-scraper -a 'https://www.wicprograms.org/state/{state}$' https://www.wicprograms.org/state/{state} -o './data/'\")"
   ]
  },
  {
   "cell_type": "markdown",
   "metadata": {},
   "source": [
    "This creates the following directory structure in `./data/`:\n",
    "\n",
    "```\n",
    "website/\n",
    "└── www.wicprograms.org\n",
    "    └── state\n",
    "    |   └──alabama\n",
    "    |       ├── 20110518012524.snapshot\n",
    "    |       ├── 20110728175734.snapshot\n",
    "    |       ...\n",
    "    |       └── 20210508013023.snapshot\n",
    "    ...\n",
    "    |   └──wyoming\n",
    "    |       ├── 20110518012524.snapshot\n",
    "    |       ├── 20110728175734.snapshot\n",
    "    |       ...\n",
    "    |       └── 20210508013023.snapshot\n",
    "```\n",
    "\n",
    "**Note:** The this took 30 minutes to run."
   ]
  },
  {
   "cell_type": "code",
   "execution_count": null,
   "metadata": {},
   "outputs": [],
   "source": []
  }
 ],
 "metadata": {
  "interpreter": {
   "hash": "25ba7b2fce11290ff058c342a2e5c4e405c72fe334204cebd2d9f7aaf9db2ad5"
  },
  "kernelspec": {
   "display_name": "Python 3.9.7 64-bit ('base': conda)",
   "language": "python",
   "name": "python3"
  },
  "language_info": {
   "codemirror_mode": {
    "name": "ipython",
    "version": 3
   },
   "file_extension": ".py",
   "mimetype": "text/x-python",
   "name": "python",
   "nbconvert_exporter": "python",
   "pygments_lexer": "ipython3",
   "version": "3.9.7"
  },
  "orig_nbformat": 4
 },
 "nbformat": 4,
 "nbformat_minor": 2
}
