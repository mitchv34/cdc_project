{
 "cells": [
  {
   "cell_type": "markdown",
   "metadata": {},
   "source": [
    "# Scrape https://www.wicprograms.org/\n",
    "\n",
    "First we scrape the state names from \"https://www.wicprograms.org/\" to create a list of urls to scrape."
   ]
  },
  {
   "cell_type": "code",
   "execution_count": 227,
   "metadata": {},
   "outputs": [],
   "source": [
    "import requests\n",
    "from bs4 import BeautifulSoup\n",
    "import re\n",
    "from uszipcode import SearchEngine\n",
    "\n",
    "\n",
    "URL = \"https://www.wicprograms.org/\"\n",
    "r = requests.get(URL)\n",
    "soup = BeautifulSoup(r.content, 'html5lib')\n",
    "\n",
    "states = [option for option in soup.find_all('select')[0].find_all('option')][1:]\n",
    "states = [s.get('value') for s in states]"
   ]
  },
  {
   "cell_type": "markdown",
   "metadata": {},
   "source": [
    "## Use wayback machine to get change history of the WIC clinincs at the state level"
   ]
  },
  {
   "cell_type": "code",
   "execution_count": null,
   "metadata": {},
   "outputs": [],
   "source": [
    "! wayback-machine-scraper -a 'https://www.wicprograms.org/$' https://www.wicprograms.org/ -o './data/'"
   ]
  },
  {
   "cell_type": "markdown",
   "metadata": {},
   "source": [
    "This creates the following directory structure in `./data/`:\n",
    "\n",
    "```\n",
    "website/\n",
    "└── www.wicprograms.org\n",
    "       ├── 20101203122320.snapshot\n",
    "       ├── 20110202214735.snapshot\n",
    "       ...\n",
    "       └── 20220119003812.snapshot\n",
    "```\n",
    "\n",
    "Im goint to ignore the snapshots that are older than Jun 21 2012 since they do not contain the table of WIC clinics by state."
   ]
  },
  {
   "cell_type": "code",
   "execution_count": 2,
   "metadata": {},
   "outputs": [],
   "source": [
    "from os import listdir\n",
    "from os.path import isfile, join\n",
    "\n",
    "data_path = './data/www.wicprograms.org/'\n",
    "\n",
    "snapshots = [f for f in listdir(data_path) if isfile(join(data_path, f)) and f.endswith('.snapshot')]\n",
    "\n",
    "snapshots = [s for s in snapshots if int(s[:14]) > 20120620000000 ]"
   ]
  },
  {
   "cell_type": "code",
   "execution_count": 15,
   "metadata": {},
   "outputs": [],
   "source": [
    "from bs4 import BeautifulSoup\n",
    "import pandas as pd\n",
    "import re\n",
    "\n",
    "problem = []\n",
    "WIC_count_by_state = pd.DataFrame({'state': [], 'WIC_count': [], 'snapshot': []})\n",
    "for i in range(len(snapshots)):\n",
    "    with open(data_path + snapshots[i]) as fp:\n",
    "        soup = BeautifulSoup(fp, 'html.parser')\n",
    "    state_data = {'state': [], 'WIC_count': [], 'snapshot': []}\n",
    "    try:\n",
    "        table = soup.find_all('div', {'class':\"multicolumn\"})[0]\n",
    "    except:\n",
    "        table = soup.find_all(\"ul\", {'class':\"statelist\"})[0]\n",
    "    statte_list = table.find_all('a')\n",
    "    state_data['state'] = [s.text for s in statte_list]\n",
    "\n",
    "    program_count = table.find_all('em')\n",
    "    state_data['WIC_count'] = [int(\"\".join(filter(str.isdigit, p.text))) for p in program_count]\n",
    "    state_data['snapshot'] = pd.to_datetime([snapshots[i][:-9]]*len(state_data['state']))\n",
    "    state_data = pd.DataFrame(state_data)\n",
    "    WIC_count_by_state = pd.concat([WIC_count_by_state, state_data], ignore_index=True)"
   ]
  },
  {
   "cell_type": "code",
   "execution_count": 28,
   "metadata": {},
   "outputs": [],
   "source": [
    "pivot_table = WIC_count_by_state.pivot_table(index='snapshot', columns='state', values='WIC_count').reset_index()"
   ]
  },
  {
   "cell_type": "code",
   "execution_count": 35,
   "metadata": {},
   "outputs": [
    {
     "data": {
      "text/plain": [
       "<seaborn.axisgrid.FacetGrid at 0x7f47e162dac0>"
      ]
     },
     "execution_count": 35,
     "metadata": {},
     "output_type": "execute_result"
    },
    {
     "data": {
      "image/png": "[encoded data removed]",
      "image/svg+xml": "<?xml version=\"1.0\" encoding=\"utf-8\" standalone=\"no\"?>\n<!DOCTYPE svg PUBLIC \"-//W3C//DTD SVG 1.1//EN\"\n  \"http://www.w3.org/Graphics/SVG/1.1/DTD/svg11.dtd\">\n<!-- Created with matplotlib (https://matplotlib.org/) -->\n<svg height=\"366.062656pt\" version=\"1.1\" viewBox=\"0 0 365.125636 366.062656\" width=\"365.125636pt\" xmlns=\"http://www.w3.org/2000/svg\" xmlns:xlink=\"http://www.w3.org/1999/xlink\">\n <metadata>\n  <rdf:RDF xmlns:cc=\"http://creativecommons.org/ns#\" xmlns:dc=\"http://purl.org/dc/elements/1.1/\" xmlns:rdf=\"http://www.w3.org/1999/02/22-rdf-syntax-ns#\">\n   <cc:Work>\n    <dc:type rdf:resource=\"http://purl.org/dc/dcmitype/StillImage\"/>\n    <dc:date>2022-02-07T15:31:31.075299</dc:date>\n    <dc:format>image/svg+xml</dc:format>\n    <dc:creator>\n     <cc:Agent>\n      <dc:title>Matplotlib v3.3.4, https://matplotlib.org/</dc:title>\n     </cc:Agent>\n    </dc:creator>\n   </cc:Work>\n  </rdf:RDF>\n </metadata>\n <defs>\n  <style type=\"text/css\">*{stroke-linecap:butt;stroke-linejoin:round;}</style>\n </defs>\n <g id=\"figure_1\">\n  <g id=\"patch_1\">\n   <path d=\"M 0 366.062656 \nL 365.125636 366.062656 \nL 365.125636 0 \nL 0 0 \nz\n\" style=\"fill:#ffffff;\"/>\n  </g>\n  <g id=\"axes_1\">\n   <g id=\"patch_2\">\n    <path d=\"M 54.81 321.602969 \nL 345.4254 321.602969 \nL 345.4254 12.522969 \nL 54.81 12.522969 \nz\n\" style=\"fill:#eaeaf2;\"/>\n   </g>\n   <g id=\"matplotlib.axis_1\">\n    <g id=\"xtick_1\">\n     <g id=\"text_1\">\n      <!-- 2013 -->\n      <g style=\"fill:#262626;\" transform=\"translate(56.915879 339.96125)scale(0.11 -0.11)\">\n       <defs>\n        <path d=\"M 19.1875 8.296875 \nL 53.609375 8.296875 \nL 53.609375 0 \nL 7.328125 0 \nL 7.328125 8.296875 \nQ 12.9375 14.109375 22.625 23.890625 \nQ 32.328125 33.6875 34.8125 36.53125 \nQ 39.546875 41.84375 41.421875 45.53125 \nQ 43.3125 49.21875 43.3125 52.78125 \nQ 43.3125 58.59375 39.234375 62.25 \nQ 35.15625 65.921875 28.609375 65.921875 \nQ 23.96875 65.921875 18.8125 64.3125 \nQ 13.671875 62.703125 7.8125 59.421875 \nL 7.8125 69.390625 \nQ 13.765625 71.78125 18.9375 73 \nQ 24.125 74.21875 28.421875 74.21875 \nQ 39.75 74.21875 46.484375 68.546875 \nQ 53.21875 62.890625 53.21875 53.421875 \nQ 53.21875 48.921875 51.53125 44.890625 \nQ 49.859375 40.875 45.40625 35.40625 \nQ 44.1875 33.984375 37.640625 27.21875 \nQ 31.109375 20.453125 19.1875 8.296875 \nz\n\" id=\"DejaVuSans-50\"/>\n        <path d=\"M 31.78125 66.40625 \nQ 24.171875 66.40625 20.328125 58.90625 \nQ 16.5 51.421875 16.5 36.375 \nQ 16.5 21.390625 20.328125 13.890625 \nQ 24.171875 6.390625 31.78125 6.390625 \nQ 39.453125 6.390625 43.28125 13.890625 \nQ 47.125 21.390625 47.125 36.375 \nQ 47.125 51.421875 43.28125 58.90625 \nQ 39.453125 66.40625 31.78125 66.40625 \nz\nM 31.78125 74.21875 \nQ 44.046875 74.21875 50.515625 64.515625 \nQ 56.984375 54.828125 56.984375 36.375 \nQ 56.984375 17.96875 50.515625 8.265625 \nQ 44.046875 -1.421875 31.78125 -1.421875 \nQ 19.53125 -1.421875 13.0625 8.265625 \nQ 6.59375 17.96875 6.59375 36.375 \nQ 6.59375 54.828125 13.0625 64.515625 \nQ 19.53125 74.21875 31.78125 74.21875 \nz\n\" id=\"DejaVuSans-48\"/>\n        <path d=\"M 12.40625 8.296875 \nL 28.515625 8.296875 \nL 28.515625 63.921875 \nL 10.984375 60.40625 \nL 10.984375 69.390625 \nL 28.421875 72.90625 \nL 38.28125 72.90625 \nL 38.28125 8.296875 \nL 54.390625 8.296875 \nL 54.390625 0 \nL 12.40625 0 \nz\n\" id=\"DejaVuSans-49\"/>\n        <path d=\"M 40.578125 39.3125 \nQ 47.65625 37.796875 51.625 33 \nQ 55.609375 28.21875 55.609375 21.1875 \nQ 55.609375 10.40625 48.1875 4.484375 \nQ 40.765625 -1.421875 27.09375 -1.421875 \nQ 22.515625 -1.421875 17.65625 -0.515625 \nQ 12.796875 0.390625 7.625 2.203125 \nL 7.625 11.71875 \nQ 11.71875 9.328125 16.59375 8.109375 \nQ 21.484375 6.890625 26.8125 6.890625 \nQ 36.078125 6.890625 40.9375 10.546875 \nQ 45.796875 14.203125 45.796875 21.1875 \nQ 45.796875 27.640625 41.28125 31.265625 \nQ 36.765625 34.90625 28.71875 34.90625 \nL 20.21875 34.90625 \nL 20.21875 43.015625 \nL 29.109375 43.015625 \nQ 36.375 43.015625 40.234375 45.921875 \nQ 44.09375 48.828125 44.09375 54.296875 \nQ 44.09375 59.90625 40.109375 62.90625 \nQ 36.140625 65.921875 28.71875 65.921875 \nQ 24.65625 65.921875 20.015625 65.03125 \nQ 15.375 64.15625 9.8125 62.3125 \nL 9.8125 71.09375 \nQ 15.4375 72.65625 20.34375 73.4375 \nQ 25.25 74.21875 29.59375 74.21875 \nQ 40.828125 74.21875 47.359375 69.109375 \nQ 53.90625 64.015625 53.90625 55.328125 \nQ 53.90625 49.265625 50.4375 45.09375 \nQ 46.96875 40.921875 40.578125 39.3125 \nz\n\" id=\"DejaVuSans-51\"/>\n       </defs>\n       <use xlink:href=\"#DejaVuSans-50\"/>\n       <use x=\"63.623047\" xlink:href=\"#DejaVuSans-48\"/>\n       <use x=\"127.246094\" xlink:href=\"#DejaVuSans-49\"/>\n       <use x=\"190.869141\" xlink:href=\"#DejaVuSans-51\"/>\n      </g>\n     </g>\n    </g>\n    <g id=\"xtick_2\">\n     <g id=\"text_2\">\n      <!-- 2014 -->\n      <g style=\"fill:#262626;\" transform=\"translate(87.232395 339.96125)scale(0.11 -0.11)\">\n       <defs>\n        <path d=\"M 37.796875 64.3125 \nL 12.890625 25.390625 \nL 37.796875 25.390625 \nz\nM 35.203125 72.90625 \nL 47.609375 72.90625 \nL 47.609375 25.390625 \nL 58.015625 25.390625 \nL 58.015625 17.1875 \nL 47.609375 17.1875 \nL 47.609375 0 \nL 37.796875 0 \nL 37.796875 17.1875 \nL 4.890625 17.1875 \nL 4.890625 26.703125 \nz\n\" id=\"DejaVuSans-52\"/>\n       </defs>\n       <use xlink:href=\"#DejaVuSans-50\"/>\n       <use x=\"63.623047\" xlink:href=\"#DejaVuSans-48\"/>\n       <use x=\"127.246094\" xlink:href=\"#DejaVuSans-49\"/>\n       <use x=\"190.869141\" xlink:href=\"#DejaVuSans-52\"/>\n      </g>\n     </g>\n    </g>\n    <g id=\"xtick_3\">\n     <g id=\"text_3\">\n      <!-- 2015 -->\n      <g style=\"fill:#262626;\" transform=\"translate(117.54891 339.96125)scale(0.11 -0.11)\">\n       <defs>\n        <path d=\"M 10.796875 72.90625 \nL 49.515625 72.90625 \nL 49.515625 64.59375 \nL 19.828125 64.59375 \nL 19.828125 46.734375 \nQ 21.96875 47.46875 24.109375 47.828125 \nQ 26.265625 48.1875 28.421875 48.1875 \nQ 40.625 48.1875 47.75 41.5 \nQ 54.890625 34.8125 54.890625 23.390625 \nQ 54.890625 11.625 47.5625 5.09375 \nQ 40.234375 -1.421875 26.90625 -1.421875 \nQ 22.3125 -1.421875 17.546875 -0.640625 \nQ 12.796875 0.140625 7.71875 1.703125 \nL 7.71875 11.625 \nQ 12.109375 9.234375 16.796875 8.0625 \nQ 21.484375 6.890625 26.703125 6.890625 \nQ 35.15625 6.890625 40.078125 11.328125 \nQ 45.015625 15.765625 45.015625 23.390625 \nQ 45.015625 31 40.078125 35.4375 \nQ 35.15625 39.890625 26.703125 39.890625 \nQ 22.75 39.890625 18.8125 39.015625 \nQ 14.890625 38.140625 10.796875 36.28125 \nz\n\" id=\"DejaVuSans-53\"/>\n       </defs>\n       <use xlink:href=\"#DejaVuSans-50\"/>\n       <use x=\"63.623047\" xlink:href=\"#DejaVuSans-48\"/>\n       <use x=\"127.246094\" xlink:href=\"#DejaVuSans-49\"/>\n       <use x=\"190.869141\" xlink:href=\"#DejaVuSans-53\"/>\n      </g>\n     </g>\n    </g>\n    <g id=\"xtick_4\">\n     <g id=\"text_4\">\n      <!-- 2016 -->\n      <g style=\"fill:#262626;\" transform=\"translate(147.865425 339.96125)scale(0.11 -0.11)\">\n       <defs>\n        <path d=\"M 33.015625 40.375 \nQ 26.375 40.375 22.484375 35.828125 \nQ 18.609375 31.296875 18.609375 23.390625 \nQ 18.609375 15.53125 22.484375 10.953125 \nQ 26.375 6.390625 33.015625 6.390625 \nQ 39.65625 6.390625 43.53125 10.953125 \nQ 47.40625 15.53125 47.40625 23.390625 \nQ 47.40625 31.296875 43.53125 35.828125 \nQ 39.65625 40.375 33.015625 40.375 \nz\nM 52.59375 71.296875 \nL 52.59375 62.3125 \nQ 48.875 64.0625 45.09375 64.984375 \nQ 41.3125 65.921875 37.59375 65.921875 \nQ 27.828125 65.921875 22.671875 59.328125 \nQ 17.53125 52.734375 16.796875 39.40625 \nQ 19.671875 43.65625 24.015625 45.921875 \nQ 28.375 48.1875 33.59375 48.1875 \nQ 44.578125 48.1875 50.953125 41.515625 \nQ 57.328125 34.859375 57.328125 23.390625 \nQ 57.328125 12.15625 50.6875 5.359375 \nQ 44.046875 -1.421875 33.015625 -1.421875 \nQ 20.359375 -1.421875 13.671875 8.265625 \nQ 6.984375 17.96875 6.984375 36.375 \nQ 6.984375 53.65625 15.1875 63.9375 \nQ 23.390625 74.21875 37.203125 74.21875 \nQ 40.921875 74.21875 44.703125 73.484375 \nQ 48.484375 72.75 52.59375 71.296875 \nz\n\" id=\"DejaVuSans-54\"/>\n       </defs>\n       <use xlink:href=\"#DejaVuSans-50\"/>\n       <use x=\"63.623047\" xlink:href=\"#DejaVuSans-48\"/>\n       <use x=\"127.246094\" xlink:href=\"#DejaVuSans-49\"/>\n       <use x=\"190.869141\" xlink:href=\"#DejaVuSans-54\"/>\n      </g>\n     </g>\n    </g>\n    <g id=\"xtick_5\">\n     <g id=\"text_5\">\n      <!-- 2017 -->\n      <g style=\"fill:#262626;\" transform=\"translate(178.265 339.96125)scale(0.11 -0.11)\">\n       <defs>\n        <path d=\"M 8.203125 72.90625 \nL 55.078125 72.90625 \nL 55.078125 68.703125 \nL 28.609375 0 \nL 18.3125 0 \nL 43.21875 64.59375 \nL 8.203125 64.59375 \nz\n\" id=\"DejaVuSans-55\"/>\n       </defs>\n       <use xlink:href=\"#DejaVuSans-50\"/>\n       <use x=\"63.623047\" xlink:href=\"#DejaVuSans-48\"/>\n       <use x=\"127.246094\" xlink:href=\"#DejaVuSans-49\"/>\n       <use x=\"190.869141\" xlink:href=\"#DejaVuSans-55\"/>\n      </g>\n     </g>\n    </g>\n    <g id=\"xtick_6\">\n     <g id=\"text_6\">\n      <!-- 2018 -->\n      <g style=\"fill:#262626;\" transform=\"translate(208.581515 339.96125)scale(0.11 -0.11)\">\n       <defs>\n        <path d=\"M 31.78125 34.625 \nQ 24.75 34.625 20.71875 30.859375 \nQ 16.703125 27.09375 16.703125 20.515625 \nQ 16.703125 13.921875 20.71875 10.15625 \nQ 24.75 6.390625 31.78125 6.390625 \nQ 38.8125 6.390625 42.859375 10.171875 \nQ 46.921875 13.96875 46.921875 20.515625 \nQ 46.921875 27.09375 42.890625 30.859375 \nQ 38.875 34.625 31.78125 34.625 \nz\nM 21.921875 38.8125 \nQ 15.578125 40.375 12.03125 44.71875 \nQ 8.5 49.078125 8.5 55.328125 \nQ 8.5 64.0625 14.71875 69.140625 \nQ 20.953125 74.21875 31.78125 74.21875 \nQ 42.671875 74.21875 48.875 69.140625 \nQ 55.078125 64.0625 55.078125 55.328125 \nQ 55.078125 49.078125 51.53125 44.71875 \nQ 48 40.375 41.703125 38.8125 \nQ 48.828125 37.15625 52.796875 32.3125 \nQ 56.78125 27.484375 56.78125 20.515625 \nQ 56.78125 9.90625 50.3125 4.234375 \nQ 43.84375 -1.421875 31.78125 -1.421875 \nQ 19.734375 -1.421875 13.25 4.234375 \nQ 6.78125 9.90625 6.78125 20.515625 \nQ 6.78125 27.484375 10.78125 32.3125 \nQ 14.796875 37.15625 21.921875 38.8125 \nz\nM 18.3125 54.390625 \nQ 18.3125 48.734375 21.84375 45.5625 \nQ 25.390625 42.390625 31.78125 42.390625 \nQ 38.140625 42.390625 41.71875 45.5625 \nQ 45.3125 48.734375 45.3125 54.390625 \nQ 45.3125 60.0625 41.71875 63.234375 \nQ 38.140625 66.40625 31.78125 66.40625 \nQ 25.390625 66.40625 21.84375 63.234375 \nQ 18.3125 60.0625 18.3125 54.390625 \nz\n\" id=\"DejaVuSans-56\"/>\n       </defs>\n       <use xlink:href=\"#DejaVuSans-50\"/>\n       <use x=\"63.623047\" xlink:href=\"#DejaVuSans-48\"/>\n       <use x=\"127.246094\" xlink:href=\"#DejaVuSans-49\"/>\n       <use x=\"190.869141\" xlink:href=\"#DejaVuSans-56\"/>\n      </g>\n     </g>\n    </g>\n    <g id=\"xtick_7\">\n     <g id=\"text_7\">\n      <!-- 2019 -->\n      <g style=\"fill:#262626;\" transform=\"translate(238.898031 339.96125)scale(0.11 -0.11)\">\n       <defs>\n        <path d=\"M 10.984375 1.515625 \nL 10.984375 10.5 \nQ 14.703125 8.734375 18.5 7.8125 \nQ 22.3125 6.890625 25.984375 6.890625 \nQ 35.75 6.890625 40.890625 13.453125 \nQ 46.046875 20.015625 46.78125 33.40625 \nQ 43.953125 29.203125 39.59375 26.953125 \nQ 35.25 24.703125 29.984375 24.703125 \nQ 19.046875 24.703125 12.671875 31.3125 \nQ 6.296875 37.9375 6.296875 49.421875 \nQ 6.296875 60.640625 12.9375 67.421875 \nQ 19.578125 74.21875 30.609375 74.21875 \nQ 43.265625 74.21875 49.921875 64.515625 \nQ 56.59375 54.828125 56.59375 36.375 \nQ 56.59375 19.140625 48.40625 8.859375 \nQ 40.234375 -1.421875 26.421875 -1.421875 \nQ 22.703125 -1.421875 18.890625 -0.6875 \nQ 15.09375 0.046875 10.984375 1.515625 \nz\nM 30.609375 32.421875 \nQ 37.25 32.421875 41.125 36.953125 \nQ 45.015625 41.5 45.015625 49.421875 \nQ 45.015625 57.28125 41.125 61.84375 \nQ 37.25 66.40625 30.609375 66.40625 \nQ 23.96875 66.40625 20.09375 61.84375 \nQ 16.21875 57.28125 16.21875 49.421875 \nQ 16.21875 41.5 20.09375 36.953125 \nQ 23.96875 32.421875 30.609375 32.421875 \nz\n\" id=\"DejaVuSans-57\"/>\n       </defs>\n       <use xlink:href=\"#DejaVuSans-50\"/>\n       <use x=\"63.623047\" xlink:href=\"#DejaVuSans-48\"/>\n       <use x=\"127.246094\" xlink:href=\"#DejaVuSans-49\"/>\n       <use x=\"190.869141\" xlink:href=\"#DejaVuSans-57\"/>\n      </g>\n     </g>\n    </g>\n    <g id=\"xtick_8\">\n     <g id=\"text_8\">\n      <!-- 2020 -->\n      <g style=\"fill:#262626;\" transform=\"translate(269.214546 339.96125)scale(0.11 -0.11)\">\n       <use xlink:href=\"#DejaVuSans-50\"/>\n       <use x=\"63.623047\" xlink:href=\"#DejaVuSans-48\"/>\n       <use x=\"127.246094\" xlink:href=\"#DejaVuSans-50\"/>\n       <use x=\"190.869141\" xlink:href=\"#DejaVuSans-48\"/>\n      </g>\n     </g>\n    </g>\n    <g id=\"xtick_9\">\n     <g id=\"text_9\">\n      <!-- 2021 -->\n      <g style=\"fill:#262626;\" transform=\"translate(299.614121 339.96125)scale(0.11 -0.11)\">\n       <use xlink:href=\"#DejaVuSans-50\"/>\n       <use x=\"63.623047\" xlink:href=\"#DejaVuSans-48\"/>\n       <use x=\"127.246094\" xlink:href=\"#DejaVuSans-50\"/>\n       <use x=\"190.869141\" xlink:href=\"#DejaVuSans-49\"/>\n      </g>\n     </g>\n    </g>\n    <g id=\"xtick_10\">\n     <g id=\"text_10\">\n      <!-- 2022 -->\n      <g style=\"fill:#262626;\" transform=\"translate(329.930636 339.96125)scale(0.11 -0.11)\">\n       <use xlink:href=\"#DejaVuSans-50\"/>\n       <use x=\"63.623047\" xlink:href=\"#DejaVuSans-48\"/>\n       <use x=\"127.246094\" xlink:href=\"#DejaVuSans-50\"/>\n       <use x=\"190.869141\" xlink:href=\"#DejaVuSans-50\"/>\n      </g>\n     </g>\n    </g>\n    <g id=\"text_11\">\n     <!-- snapshot -->\n     <g style=\"fill:#262626;\" transform=\"translate(172.752075 356.367031)scale(0.12 -0.12)\">\n      <defs>\n       <path d=\"M 44.28125 53.078125 \nL 44.28125 44.578125 \nQ 40.484375 46.53125 36.375 47.5 \nQ 32.28125 48.484375 27.875 48.484375 \nQ 21.1875 48.484375 17.84375 46.4375 \nQ 14.5 44.390625 14.5 40.28125 \nQ 14.5 37.15625 16.890625 35.375 \nQ 19.28125 33.59375 26.515625 31.984375 \nL 29.59375 31.296875 \nQ 39.15625 29.25 43.1875 25.515625 \nQ 47.21875 21.78125 47.21875 15.09375 \nQ 47.21875 7.46875 41.1875 3.015625 \nQ 35.15625 -1.421875 24.609375 -1.421875 \nQ 20.21875 -1.421875 15.453125 -0.5625 \nQ 10.6875 0.296875 5.421875 2 \nL 5.421875 11.28125 \nQ 10.40625 8.6875 15.234375 7.390625 \nQ 20.0625 6.109375 24.8125 6.109375 \nQ 31.15625 6.109375 34.5625 8.28125 \nQ 37.984375 10.453125 37.984375 14.40625 \nQ 37.984375 18.0625 35.515625 20.015625 \nQ 33.0625 21.96875 24.703125 23.78125 \nL 21.578125 24.515625 \nQ 13.234375 26.265625 9.515625 29.90625 \nQ 5.8125 33.546875 5.8125 39.890625 \nQ 5.8125 47.609375 11.28125 51.796875 \nQ 16.75 56 26.8125 56 \nQ 31.78125 56 36.171875 55.265625 \nQ 40.578125 54.546875 44.28125 53.078125 \nz\n\" id=\"DejaVuSans-115\"/>\n       <path d=\"M 54.890625 33.015625 \nL 54.890625 0 \nL 45.90625 0 \nL 45.90625 32.71875 \nQ 45.90625 40.484375 42.875 44.328125 \nQ 39.84375 48.1875 33.796875 48.1875 \nQ 26.515625 48.1875 22.3125 43.546875 \nQ 18.109375 38.921875 18.109375 30.90625 \nL 18.109375 0 \nL 9.078125 0 \nL 9.078125 54.6875 \nL 18.109375 54.6875 \nL 18.109375 46.1875 \nQ 21.34375 51.125 25.703125 53.5625 \nQ 30.078125 56 35.796875 56 \nQ 45.21875 56 50.046875 50.171875 \nQ 54.890625 44.34375 54.890625 33.015625 \nz\n\" id=\"DejaVuSans-110\"/>\n       <path d=\"M 34.28125 27.484375 \nQ 23.390625 27.484375 19.1875 25 \nQ 14.984375 22.515625 14.984375 16.5 \nQ 14.984375 11.71875 18.140625 8.90625 \nQ 21.296875 6.109375 26.703125 6.109375 \nQ 34.1875 6.109375 38.703125 11.40625 \nQ 43.21875 16.703125 43.21875 25.484375 \nL 43.21875 27.484375 \nz\nM 52.203125 31.203125 \nL 52.203125 0 \nL 43.21875 0 \nL 43.21875 8.296875 \nQ 40.140625 3.328125 35.546875 0.953125 \nQ 30.953125 -1.421875 24.3125 -1.421875 \nQ 15.921875 -1.421875 10.953125 3.296875 \nQ 6 8.015625 6 15.921875 \nQ 6 25.140625 12.171875 29.828125 \nQ 18.359375 34.515625 30.609375 34.515625 \nL 43.21875 34.515625 \nL 43.21875 35.40625 \nQ 43.21875 41.609375 39.140625 45 \nQ 35.0625 48.390625 27.6875 48.390625 \nQ 23 48.390625 18.546875 47.265625 \nQ 14.109375 46.140625 10.015625 43.890625 \nL 10.015625 52.203125 \nQ 14.9375 54.109375 19.578125 55.046875 \nQ 24.21875 56 28.609375 56 \nQ 40.484375 56 46.34375 49.84375 \nQ 52.203125 43.703125 52.203125 31.203125 \nz\n\" id=\"DejaVuSans-97\"/>\n       <path d=\"M 18.109375 8.203125 \nL 18.109375 -20.796875 \nL 9.078125 -20.796875 \nL 9.078125 54.6875 \nL 18.109375 54.6875 \nL 18.109375 46.390625 \nQ 20.953125 51.265625 25.265625 53.625 \nQ 29.59375 56 35.59375 56 \nQ 45.5625 56 51.78125 48.09375 \nQ 58.015625 40.1875 58.015625 27.296875 \nQ 58.015625 14.40625 51.78125 6.484375 \nQ 45.5625 -1.421875 35.59375 -1.421875 \nQ 29.59375 -1.421875 25.265625 0.953125 \nQ 20.953125 3.328125 18.109375 8.203125 \nz\nM 48.6875 27.296875 \nQ 48.6875 37.203125 44.609375 42.84375 \nQ 40.53125 48.484375 33.40625 48.484375 \nQ 26.265625 48.484375 22.1875 42.84375 \nQ 18.109375 37.203125 18.109375 27.296875 \nQ 18.109375 17.390625 22.1875 11.75 \nQ 26.265625 6.109375 33.40625 6.109375 \nQ 40.53125 6.109375 44.609375 11.75 \nQ 48.6875 17.390625 48.6875 27.296875 \nz\n\" id=\"DejaVuSans-112\"/>\n       <path d=\"M 54.890625 33.015625 \nL 54.890625 0 \nL 45.90625 0 \nL 45.90625 32.71875 \nQ 45.90625 40.484375 42.875 44.328125 \nQ 39.84375 48.1875 33.796875 48.1875 \nQ 26.515625 48.1875 22.3125 43.546875 \nQ 18.109375 38.921875 18.109375 30.90625 \nL 18.109375 0 \nL 9.078125 0 \nL 9.078125 75.984375 \nL 18.109375 75.984375 \nL 18.109375 46.1875 \nQ 21.34375 51.125 25.703125 53.5625 \nQ 30.078125 56 35.796875 56 \nQ 45.21875 56 50.046875 50.171875 \nQ 54.890625 44.34375 54.890625 33.015625 \nz\n\" id=\"DejaVuSans-104\"/>\n       <path d=\"M 30.609375 48.390625 \nQ 23.390625 48.390625 19.1875 42.75 \nQ 14.984375 37.109375 14.984375 27.296875 \nQ 14.984375 17.484375 19.15625 11.84375 \nQ 23.34375 6.203125 30.609375 6.203125 \nQ 37.796875 6.203125 41.984375 11.859375 \nQ 46.1875 17.53125 46.1875 27.296875 \nQ 46.1875 37.015625 41.984375 42.703125 \nQ 37.796875 48.390625 30.609375 48.390625 \nz\nM 30.609375 56 \nQ 42.328125 56 49.015625 48.375 \nQ 55.71875 40.765625 55.71875 27.296875 \nQ 55.71875 13.875 49.015625 6.21875 \nQ 42.328125 -1.421875 30.609375 -1.421875 \nQ 18.84375 -1.421875 12.171875 6.21875 \nQ 5.515625 13.875 5.515625 27.296875 \nQ 5.515625 40.765625 12.171875 48.375 \nQ 18.84375 56 30.609375 56 \nz\n\" id=\"DejaVuSans-111\"/>\n       <path d=\"M 18.3125 70.21875 \nL 18.3125 54.6875 \nL 36.8125 54.6875 \nL 36.8125 47.703125 \nL 18.3125 47.703125 \nL 18.3125 18.015625 \nQ 18.3125 11.328125 20.140625 9.421875 \nQ 21.96875 7.515625 27.59375 7.515625 \nL 36.8125 7.515625 \nL 36.8125 0 \nL 27.59375 0 \nQ 17.1875 0 13.234375 3.875 \nQ 9.28125 7.765625 9.28125 18.015625 \nL 9.28125 47.703125 \nL 2.6875 47.703125 \nL 2.6875 54.6875 \nL 9.28125 54.6875 \nL 9.28125 70.21875 \nz\n\" id=\"DejaVuSans-116\"/>\n      </defs>\n      <use xlink:href=\"#DejaVuSans-115\"/>\n      <use x=\"52.099609\" xlink:href=\"#DejaVuSans-110\"/>\n      <use x=\"115.478516\" xlink:href=\"#DejaVuSans-97\"/>\n      <use x=\"176.757812\" xlink:href=\"#DejaVuSans-112\"/>\n      <use x=\"240.234375\" xlink:href=\"#DejaVuSans-115\"/>\n      <use x=\"292.333984\" xlink:href=\"#DejaVuSans-104\"/>\n      <use x=\"355.712891\" xlink:href=\"#DejaVuSans-111\"/>\n      <use x=\"416.894531\" xlink:href=\"#DejaVuSans-116\"/>\n     </g>\n    </g>\n   </g>\n   <g id=\"matplotlib.axis_2\">\n    <g id=\"ytick_1\">\n     <g id=\"text_12\">\n      <!-- 84 -->\n      <g style=\"fill:#262626;\" transform=\"translate(30.8125 324.638281)scale(0.11 -0.11)\">\n       <use xlink:href=\"#DejaVuSans-56\"/>\n       <use x=\"63.623047\" xlink:href=\"#DejaVuSans-52\"/>\n      </g>\n     </g>\n    </g>\n    <g id=\"ytick_2\">\n     <g id=\"text_13\">\n      <!-- 86 -->\n      <g style=\"fill:#262626;\" transform=\"translate(30.8125 286.003281)scale(0.11 -0.11)\">\n       <use xlink:href=\"#DejaVuSans-56\"/>\n       <use x=\"63.623047\" xlink:href=\"#DejaVuSans-54\"/>\n      </g>\n     </g>\n    </g>\n    <g id=\"ytick_3\">\n     <g id=\"text_14\">\n      <!-- 88 -->\n      <g style=\"fill:#262626;\" transform=\"translate(30.8125 247.368281)scale(0.11 -0.11)\">\n       <use xlink:href=\"#DejaVuSans-56\"/>\n       <use x=\"63.623047\" xlink:href=\"#DejaVuSans-56\"/>\n      </g>\n     </g>\n    </g>\n    <g id=\"ytick_4\">\n     <g id=\"text_15\">\n      <!-- 90 -->\n      <g style=\"fill:#262626;\" transform=\"translate(30.8125 208.733281)scale(0.11 -0.11)\">\n       <use xlink:href=\"#DejaVuSans-57\"/>\n       <use x=\"63.623047\" xlink:href=\"#DejaVuSans-48\"/>\n      </g>\n     </g>\n    </g>\n    <g id=\"ytick_5\">\n     <g id=\"text_16\">\n      <!-- 92 -->\n      <g style=\"fill:#262626;\" transform=\"translate(30.8125 170.098281)scale(0.11 -0.11)\">\n       <use xlink:href=\"#DejaVuSans-57\"/>\n       <use x=\"63.623047\" xlink:href=\"#DejaVuSans-50\"/>\n      </g>\n     </g>\n    </g>\n    <g id=\"ytick_6\">\n     <g id=\"text_17\">\n      <!-- 94 -->\n      <g style=\"fill:#262626;\" transform=\"translate(30.8125 131.463281)scale(0.11 -0.11)\">\n       <use xlink:href=\"#DejaVuSans-57\"/>\n       <use x=\"63.623047\" xlink:href=\"#DejaVuSans-52\"/>\n      </g>\n     </g>\n    </g>\n    <g id=\"ytick_7\">\n     <g id=\"text_18\">\n      <!-- 96 -->\n      <g style=\"fill:#262626;\" transform=\"translate(30.8125 92.828281)scale(0.11 -0.11)\">\n       <use xlink:href=\"#DejaVuSans-57\"/>\n       <use x=\"63.623047\" xlink:href=\"#DejaVuSans-54\"/>\n      </g>\n     </g>\n    </g>\n    <g id=\"ytick_8\">\n     <g id=\"text_19\">\n      <!-- 98 -->\n      <g style=\"fill:#262626;\" transform=\"translate(30.8125 54.193281)scale(0.11 -0.11)\">\n       <use xlink:href=\"#DejaVuSans-57\"/>\n       <use x=\"63.623047\" xlink:href=\"#DejaVuSans-56\"/>\n      </g>\n     </g>\n    </g>\n    <g id=\"ytick_9\">\n     <g id=\"text_20\">\n      <!-- 100 -->\n      <g style=\"fill:#262626;\" transform=\"translate(23.81375 15.558281)scale(0.11 -0.11)\">\n       <use xlink:href=\"#DejaVuSans-49\"/>\n       <use x=\"63.623047\" xlink:href=\"#DejaVuSans-48\"/>\n       <use x=\"127.246094\" xlink:href=\"#DejaVuSans-48\"/>\n      </g>\n     </g>\n    </g>\n    <g id=\"text_21\">\n     <!-- Wisconsin -->\n     <g style=\"fill:#262626;\" transform=\"translate(16.318125 197.020781)rotate(-90)scale(0.12 -0.12)\">\n      <defs>\n       <path d=\"M 3.328125 72.90625 \nL 13.28125 72.90625 \nL 28.609375 11.28125 \nL 43.890625 72.90625 \nL 54.984375 72.90625 \nL 70.3125 11.28125 \nL 85.59375 72.90625 \nL 95.609375 72.90625 \nL 77.296875 0 \nL 64.890625 0 \nL 49.515625 63.28125 \nL 33.984375 0 \nL 21.578125 0 \nz\n\" id=\"DejaVuSans-87\"/>\n       <path d=\"M 9.421875 54.6875 \nL 18.40625 54.6875 \nL 18.40625 0 \nL 9.421875 0 \nz\nM 9.421875 75.984375 \nL 18.40625 75.984375 \nL 18.40625 64.59375 \nL 9.421875 64.59375 \nz\n\" id=\"DejaVuSans-105\"/>\n       <path d=\"M 48.78125 52.59375 \nL 48.78125 44.1875 \nQ 44.96875 46.296875 41.140625 47.34375 \nQ 37.3125 48.390625 33.40625 48.390625 \nQ 24.65625 48.390625 19.8125 42.84375 \nQ 14.984375 37.3125 14.984375 27.296875 \nQ 14.984375 17.28125 19.8125 11.734375 \nQ 24.65625 6.203125 33.40625 6.203125 \nQ 37.3125 6.203125 41.140625 7.25 \nQ 44.96875 8.296875 48.78125 10.40625 \nL 48.78125 2.09375 \nQ 45.015625 0.34375 40.984375 -0.53125 \nQ 36.96875 -1.421875 32.421875 -1.421875 \nQ 20.0625 -1.421875 12.78125 6.34375 \nQ 5.515625 14.109375 5.515625 27.296875 \nQ 5.515625 40.671875 12.859375 48.328125 \nQ 20.21875 56 33.015625 56 \nQ 37.15625 56 41.109375 55.140625 \nQ 45.0625 54.296875 48.78125 52.59375 \nz\n\" id=\"DejaVuSans-99\"/>\n      </defs>\n      <use xlink:href=\"#DejaVuSans-87\"/>\n      <use x=\"96.626953\" xlink:href=\"#DejaVuSans-105\"/>\n      <use x=\"124.410156\" xlink:href=\"#DejaVuSans-115\"/>\n      <use x=\"176.509766\" xlink:href=\"#DejaVuSans-99\"/>\n      <use x=\"231.490234\" xlink:href=\"#DejaVuSans-111\"/>\n      <use x=\"292.671875\" xlink:href=\"#DejaVuSans-110\"/>\n      <use x=\"356.050781\" xlink:href=\"#DejaVuSans-115\"/>\n      <use x=\"408.150391\" xlink:href=\"#DejaVuSans-105\"/>\n      <use x=\"435.933594\" xlink:href=\"#DejaVuSans-110\"/>\n     </g>\n    </g>\n   </g>\n   <g id=\"line2d_1\">\n    <path clip-path=\"url(#p49701f6a1e)\" d=\"M 54.81 282.967969 \nL 79.053191 282.967969 \nL 81.396477 302.285469 \nL 86.381876 302.285469 \nL 88.036123 282.967969 \nL 89.185356 282.967969 \nL 91.944307 263.650469 \nL 103.008894 263.650469 \nL 103.207661 12.522969 \nL 181.387954 12.522969 \nL 181.891023 147.745469 \nL 182.161429 186.380469 \nL 345.4254 186.380469 \nL 345.4254 186.380469 \n\" style=\"fill:none;stroke:#4c72b0;stroke-linecap:round;stroke-width:1.5;\"/>\n   </g>\n   <g id=\"patch_3\">\n    <path d=\"M 54.81 321.602969 \nL 54.81 12.522969 \n\" style=\"fill:none;stroke:#ffffff;stroke-linecap:square;stroke-linejoin:miter;stroke-width:1.25;\"/>\n   </g>\n   <g id=\"patch_4\">\n    <path d=\"M 54.81 321.602969 \nL 345.4254 321.602969 \n\" style=\"fill:none;stroke:#ffffff;stroke-linecap:square;stroke-linejoin:miter;stroke-width:1.25;\"/>\n   </g>\n  </g>\n </g>\n <defs>\n  <clipPath id=\"p49701f6a1e\">\n   <rect height=\"309.08\" width=\"290.6154\" x=\"54.81\" y=\"12.522969\"/>\n  </clipPath>\n </defs>\n</svg>\n",
      "text/plain": [
       "<Figure size 360x360 with 1 Axes>"
      ]
     },
     "metadata": {},
     "output_type": "display_data"
    }
   ],
   "source": [
    "import seaborn as sns\n",
    "sns.set_theme(style=\"dark\")\n",
    "\n",
    "dots = sns.load_dataset(\"dots\")\n",
    "\n",
    "# Define the palette as a list to specify exact values\n",
    "palette = sns.color_palette(\"rocket_r\")\n",
    "\n",
    "# Plot the lines on two facets\n",
    "sns.relplot(\n",
    "    data=pivot_table, kind='line',\n",
    "    x=\"snapshot\", y=\"Wisconsin\", facet_kws=dict(sharex=False),\n",
    ")"
   ]
  },
  {
   "cell_type": "markdown",
   "metadata": {},
   "source": [
    "We can track the changes in the number of WIC clinics by state:"
   ]
  },
  {
   "cell_type": "markdown",
   "metadata": {},
   "source": [
    "## Use Wayback Machine to get the all versions of each state's page"
   ]
  },
  {
   "cell_type": "code",
   "execution_count": 135,
   "metadata": {},
   "outputs": [],
   "source": [
    "import os\n",
    "\n",
    "# for state in states:\n",
    "#     os.system(f\"wayback-machine-scraper -a 'https://www.wicprograms.org/state/{state}$' https://www.wicprograms.org/state/{state} -o './data/'\")"
   ]
  },
  {
   "cell_type": "markdown",
   "metadata": {},
   "source": [
    "This creates the following directory structure in `./data/`:\n",
    "\n",
    "```\n",
    "website/\n",
    "└── www.wicprograms.org\n",
    "    └── state\n",
    "    |   └──alabama\n",
    "    |       ├── 20110518012524.snapshot\n",
    "    |       ├── 20110728175734.snapshot\n",
    "    |       ...\n",
    "    |       └── 20210508013023.snapshot\n",
    "    ...\n",
    "    |   └──wyoming\n",
    "    |       ├── 20110518012524.snapshot\n",
    "    |       ├── 20110728175734.snapshot\n",
    "    |       ...\n",
    "    |       └── 20210508013023.snapshot\n",
    "```\n",
    "\n",
    "**Note:** The this took 30 minutes to run."
   ]
  },
  {
   "cell_type": "markdown",
   "metadata": {},
   "source": [
    "Now I will try to scrape the data from one state: `alabama`."
   ]
  },
  {
   "cell_type": "code",
   "execution_count": 52,
   "metadata": {},
   "outputs": [],
   "source": [
    "state = 'alabama'\n",
    "snapshots = [f for f in listdir(data_path+'state/'+state) if isfile(join(data_path+'state/'+state, f))]# and f.endswith('.snapshot')]\n",
    "\n",
    "snapshots = [s for s in snapshots if int(s[:14]) > 20120620000000 ]"
   ]
  },
  {
   "cell_type": "code",
   "execution_count": 131,
   "metadata": {},
   "outputs": [],
   "source": [
    "state_data = {'city': [], 'WIC_count': [], 'snapshot': []}\n",
    "problem = []\n",
    "for i in range(len(snapshots)):\n",
    "    with open(data_path+'state/'+state +'/'+ snapshots[i]) as fp:\n",
    "        soup = BeautifulSoup(fp, 'html.parser')\n",
    "    snapshot = pd.to_datetime(snapshots[i][:-9])\n",
    "    table_opt_1 = soup.find_all(\"div\", {\"class\":\"widget\"})\n",
    "    table_opt_2 = soup.find_all(\"ul\", {\"class\":\"statelist\"})\n",
    "    table_opt_3 = soup.find_all(\"ul\", {\"class\":\"unstyled columns_3\",\"id\":\"cityList\"})\n",
    "    if len(table_opt_1) > 0:\n",
    "        table = table_opt_1[2]\n",
    "    elif len(table_opt_2) > 0:\n",
    "        table = table_opt_2[0]\n",
    "    elif len(table_opt_3) > 0:\n",
    "        table = table_opt_3[0]\n",
    "    try:\n",
    "        cities = table.find_all('a')\n",
    "        for city in cities: \n",
    "            city_name, city_count = city.text.split(\"(\")\n",
    "            city_name = city_name.strip()\n",
    "            city_count = int(\"\".join(filter(str.isdigit, city_count)))\n",
    "            state_data['city'].append(city_name)\n",
    "            state_data['WIC_count'].append(city_count)\n",
    "            state_data['snapshot'].append(snapshot)\n",
    "    except:\n",
    "        cities = table.find_all('li')\n",
    "        for city in cities: \n",
    "            _,  city_name, city_count, _ = city.text.split(\"\\n\")\n",
    "            city_name = city_name.strip()\n",
    "            city_count = int(\"\".join(filter(str.isdigit, city_count)))\n",
    "            state_data['city'].append(city_name)\n",
    "            state_data['WIC_count'].append(city_count)\n",
    "            state_data['snapshot'].append(snapshot)\n",
    "\n",
    "alabama_data = pd.DataFrame(state_data)"
   ]
  },
  {
   "cell_type": "code",
   "execution_count": 132,
   "metadata": {},
   "outputs": [
    {
     "data": {
      "text/html": [
       "<div>\n",
       "<style scoped>\n",
       "    .dataframe tbody tr th:only-of-type {\n",
       "        vertical-align: middle;\n",
       "    }\n",
       "\n",
       "    .dataframe tbody tr th {\n",
       "        vertical-align: top;\n",
       "    }\n",
       "\n",
       "    .dataframe thead th {\n",
       "        text-align: right;\n",
       "    }\n",
       "</style>\n",
       "<table border=\"1\" class=\"dataframe\">\n",
       "  <thead>\n",
       "    <tr style=\"text-align: right;\">\n",
       "      <th></th>\n",
       "      <th>city</th>\n",
       "      <th>WIC_count</th>\n",
       "      <th>snapshot</th>\n",
       "    </tr>\n",
       "  </thead>\n",
       "  <tbody>\n",
       "    <tr>\n",
       "      <th>0</th>\n",
       "      <td>Abbeville</td>\n",
       "      <td>1</td>\n",
       "      <td>2015-10-27 01:01:11</td>\n",
       "    </tr>\n",
       "    <tr>\n",
       "      <th>1</th>\n",
       "      <td>Alexander City</td>\n",
       "      <td>1</td>\n",
       "      <td>2015-10-27 01:01:11</td>\n",
       "    </tr>\n",
       "    <tr>\n",
       "      <th>2</th>\n",
       "      <td>Andalusia</td>\n",
       "      <td>1</td>\n",
       "      <td>2015-10-27 01:01:11</td>\n",
       "    </tr>\n",
       "    <tr>\n",
       "      <th>3</th>\n",
       "      <td>Ashville</td>\n",
       "      <td>1</td>\n",
       "      <td>2015-10-27 01:01:11</td>\n",
       "    </tr>\n",
       "    <tr>\n",
       "      <th>4</th>\n",
       "      <td>Athens</td>\n",
       "      <td>1</td>\n",
       "      <td>2015-10-27 01:01:11</td>\n",
       "    </tr>\n",
       "    <tr>\n",
       "      <th>...</th>\n",
       "      <td>...</td>\n",
       "      <td>...</td>\n",
       "      <td>...</td>\n",
       "    </tr>\n",
       "    <tr>\n",
       "      <th>1524</th>\n",
       "      <td>Tuskegee</td>\n",
       "      <td>1</td>\n",
       "      <td>2017-06-06 17:16:14</td>\n",
       "    </tr>\n",
       "    <tr>\n",
       "      <th>1525</th>\n",
       "      <td>Tyler</td>\n",
       "      <td>1</td>\n",
       "      <td>2017-06-06 17:16:14</td>\n",
       "    </tr>\n",
       "    <tr>\n",
       "      <th>1526</th>\n",
       "      <td>Union Springs</td>\n",
       "      <td>1</td>\n",
       "      <td>2017-06-06 17:16:14</td>\n",
       "    </tr>\n",
       "    <tr>\n",
       "      <th>1527</th>\n",
       "      <td>Valley</td>\n",
       "      <td>1</td>\n",
       "      <td>2017-06-06 17:16:14</td>\n",
       "    </tr>\n",
       "    <tr>\n",
       "      <th>1528</th>\n",
       "      <td>Wetumpka</td>\n",
       "      <td>1</td>\n",
       "      <td>2017-06-06 17:16:14</td>\n",
       "    </tr>\n",
       "  </tbody>\n",
       "</table>\n",
       "<p>1529 rows × 3 columns</p>\n",
       "</div>"
      ],
      "text/plain": [
       "                city  WIC_count            snapshot\n",
       "0          Abbeville          1 2015-10-27 01:01:11\n",
       "1     Alexander City          1 2015-10-27 01:01:11\n",
       "2          Andalusia          1 2015-10-27 01:01:11\n",
       "3           Ashville          1 2015-10-27 01:01:11\n",
       "4             Athens          1 2015-10-27 01:01:11\n",
       "...              ...        ...                 ...\n",
       "1524        Tuskegee          1 2017-06-06 17:16:14\n",
       "1525           Tyler          1 2017-06-06 17:16:14\n",
       "1526   Union Springs          1 2017-06-06 17:16:14\n",
       "1527          Valley          1 2017-06-06 17:16:14\n",
       "1528        Wetumpka          1 2017-06-06 17:16:14\n",
       "\n",
       "[1529 rows x 3 columns]"
      ]
     },
     "execution_count": 132,
     "metadata": {},
     "output_type": "execute_result"
    }
   ],
   "source": [
    "alabama_data"
   ]
  },
  {
   "cell_type": "markdown",
   "metadata": {},
   "source": [
    "### Going Deeper\n",
    "We can go even deeper and scrape the data from the individual city pages.\n",
    "\n",
    "Take for example the page for Abbeville, Alabama:\n",
    "\n",
    "The link is `https://www.wicprograms.org/ci/al-abbeville`\n",
    "\n",
    "So we just need city names and state two letter codes.\n",
    "\n",
    "We can automate this using the city names from the previous step."
   ]
  },
  {
   "cell_type": "code",
   "execution_count": 139,
   "metadata": {},
   "outputs": [],
   "source": [
    "for city in alabama_data.city.apply(lambda x: x.lower()).unique():\n",
    "    os.system(f\"wayback-machine-scraper -a 'https://www.wicprograms.org/ci/al-{city}$' https://www.wicprograms.org/ci/al-{city} -o './data/'\")"
   ]
  },
  {
   "cell_type": "markdown",
   "metadata": {},
   "source": [
    "This creates the following directory structure in `./data/`:\n",
    "\n",
    "```\n",
    "website/\n",
    "└── www.wicprograms.org\n",
    "    └── ci\n",
    "    |   └──al-abbeville\n",
    "    |       ├── 20140830153503.snapshot\n",
    "    |       ├── 20150421212601.snapshot\n",
    "    |       ...\n",
    "    |       └── 20170812175844.snapshot\n",
    "    ...\n",
    "    |   └──al-wetumpka\n",
    "    |       ├── 20110518012524.snapshot\n",
    "    |       ├── 20110728175734.snapshot\n",
    "    |       ...\n",
    "    |       └── 20210508013023.snapshot\n",
    "```"
   ]
  },
  {
   "cell_type": "code",
   "execution_count": 233,
   "metadata": {},
   "outputs": [],
   "source": [
    "sr = SearchEngine()\n",
    "\n",
    "state = 'al'\n",
    "city_list = listdir(data_path+'ci/')\n",
    "city_list = [c[3:] for c in city_list if c.startswith(state)]\n",
    "path = data_path+'ci/'+state+'-'\n",
    "for city in city_list:\n",
    "    path_city = path+city\n",
    "    snapshots = [f for f in listdir(path_city) if isfile(join(path_city, f)) and f.endswith('.snapshot')]\n",
    "    snapshots = [s for s in snapshots if int(s[:14]) > 20120620000000]\n",
    "    "
   ]
  },
  {
   "cell_type": "code",
   "execution_count": 239,
   "metadata": {},
   "outputs": [
    {
     "data": {
      "text/html": [
       "<div>\n",
       "<style scoped>\n",
       "    .dataframe tbody tr th:only-of-type {\n",
       "        vertical-align: middle;\n",
       "    }\n",
       "\n",
       "    .dataframe tbody tr th {\n",
       "        vertical-align: top;\n",
       "    }\n",
       "\n",
       "    .dataframe thead th {\n",
       "        text-align: right;\n",
       "    }\n",
       "</style>\n",
       "<table border=\"1\" class=\"dataframe\">\n",
       "  <thead>\n",
       "    <tr style=\"text-align: right;\">\n",
       "      <th></th>\n",
       "      <th>city</th>\n",
       "      <th>address</th>\n",
       "      <th>snapshot</th>\n",
       "      <th>telephone</th>\n",
       "      <th>zip_code</th>\n",
       "      <th>county</th>\n",
       "    </tr>\n",
       "  </thead>\n",
       "  <tbody>\n",
       "    <tr>\n",
       "      <th>0</th>\n",
       "      <td>abbeville</td>\n",
       "      <td>505 Kirkland Street, Abbeville, AL - 36310</td>\n",
       "      <td>2014-08-30 15:35:03</td>\n",
       "      <td>(334) 585-2660</td>\n",
       "      <td>36310</td>\n",
       "      <td>Henry County</td>\n",
       "    </tr>\n",
       "    <tr>\n",
       "      <th>1</th>\n",
       "      <td>abbeville</td>\n",
       "      <td>505 Kirkland Street, Abbeville, AL - 36310</td>\n",
       "      <td>2014-08-30 15:35:03</td>\n",
       "      <td>(334) 585-2660</td>\n",
       "      <td>36310</td>\n",
       "      <td>Henry County</td>\n",
       "    </tr>\n",
       "    <tr>\n",
       "      <th>2</th>\n",
       "      <td>abbeville</td>\n",
       "      <td>505 Kirkland Street, Abbeville, AL - 36310</td>\n",
       "      <td>2014-08-30 15:35:03</td>\n",
       "      <td>(334) 585-2660</td>\n",
       "      <td>36310</td>\n",
       "      <td>Henry County</td>\n",
       "    </tr>\n",
       "    <tr>\n",
       "      <th>3</th>\n",
       "      <td>abbeville</td>\n",
       "      <td>505 Kirkland Street, Abbeville, AL - 36310</td>\n",
       "      <td>2014-08-30 15:35:03</td>\n",
       "      <td>(334) 585-2660</td>\n",
       "      <td>36310</td>\n",
       "      <td>Henry County</td>\n",
       "    </tr>\n",
       "    <tr>\n",
       "      <th>4</th>\n",
       "      <td>abbeville</td>\n",
       "      <td>505 Kirkland Street, Abbeville, AL - 36310</td>\n",
       "      <td>2014-08-30 15:35:03</td>\n",
       "      <td>(334) 585-2660</td>\n",
       "      <td>36310</td>\n",
       "      <td>Henry County</td>\n",
       "    </tr>\n",
       "    <tr>\n",
       "      <th>5</th>\n",
       "      <td>abbeville</td>\n",
       "      <td>505 Kirkland Street, Abbeville, AL - 36310</td>\n",
       "      <td>2014-08-30 15:35:03</td>\n",
       "      <td>(334) 585-2660</td>\n",
       "      <td>36310</td>\n",
       "      <td>Henry County</td>\n",
       "    </tr>\n",
       "    <tr>\n",
       "      <th>6</th>\n",
       "      <td>abbeville</td>\n",
       "      <td>505 Kirkland Street, Abbeville, AL - 36310</td>\n",
       "      <td>2014-08-30 15:35:03</td>\n",
       "      <td>(334) 585-2660</td>\n",
       "      <td>36310</td>\n",
       "      <td>Henry County</td>\n",
       "    </tr>\n",
       "  </tbody>\n",
       "</table>\n",
       "</div>"
      ],
      "text/plain": [
       "        city                                     address            snapshot  \\\n",
       "0  abbeville  505 Kirkland Street, Abbeville, AL - 36310 2014-08-30 15:35:03   \n",
       "1  abbeville  505 Kirkland Street, Abbeville, AL - 36310 2014-08-30 15:35:03   \n",
       "2  abbeville  505 Kirkland Street, Abbeville, AL - 36310 2014-08-30 15:35:03   \n",
       "3  abbeville  505 Kirkland Street, Abbeville, AL - 36310 2014-08-30 15:35:03   \n",
       "4  abbeville  505 Kirkland Street, Abbeville, AL - 36310 2014-08-30 15:35:03   \n",
       "5  abbeville  505 Kirkland Street, Abbeville, AL - 36310 2014-08-30 15:35:03   \n",
       "6  abbeville  505 Kirkland Street, Abbeville, AL - 36310 2014-08-30 15:35:03   \n",
       "\n",
       "        telephone zip_code        county  \n",
       "0  (334) 585-2660    36310  Henry County  \n",
       "1  (334) 585-2660    36310  Henry County  \n",
       "2  (334) 585-2660    36310  Henry County  \n",
       "3  (334) 585-2660    36310  Henry County  \n",
       "4  (334) 585-2660    36310  Henry County  \n",
       "5  (334) 585-2660    36310  Henry County  \n",
       "6  (334) 585-2660    36310  Henry County  "
      ]
     },
     "execution_count": 239,
     "metadata": {},
     "output_type": "execute_result"
    }
   ],
   "source": [
    "city = city_list[2]\n",
    "path_city = path+city\n",
    "snapshots = [f for f in listdir(path_city) if isfile(join(path_city, f)) and f.endswith('.snapshot')]\n",
    "snapshots = [s for s in snapshots if int(s[:14]) > 20120620000000]\n",
    "snapshot = snapshots[0]\n",
    "city_data = {'city': [], 'address': [], 'snapshot': [], 'telephone': [], 'zip_code': [], 'county': []}\n",
    "for i in range(len(snapshots)):\n",
    "        with open(path_city + '/' + snapshots[i]) as fp:\n",
    "                soup = BeautifulSoup(fp, 'html.parser')\n",
    "        clinics =  soup.find_all('p', {\"style\":'font-weight:bold;'})\n",
    "        for clinic in clinics:\n",
    "                clinic_data = clinic.text.strip().split(\"\\n\")\n",
    "                if len(clinic_data) == 3:\n",
    "                        city_data['city'].append(city)\n",
    "                        clinic_data=[d.strip() for d in clinic_data]\n",
    "                        address = \", \".join(clinic_data[:2])\n",
    "                        city_data[\"address\"].append(address)\n",
    "                        city_data[\"telephone\"] = clinic_data[2]\n",
    "                        zip_code = re.findall(r\"(?<!\\d)\\d{5}(?!\\d)\", address)[0]\n",
    "                        city_data[\"zip_code\"].append(zip_code)\n",
    "                        city_data[\"county\"] .append(sr.by_zipcode(zip_code).county)\n",
    "                        city_data[\"snapshot\"].append(pd.to_datetime(snapshot[:-9]))\n",
    "\n",
    "pd.DataFrame(city_data)"
   ]
  },
  {
   "cell_type": "markdown",
   "metadata": {},
   "source": [
    "**Note:** I used the `uszipcode` package to get the county but the pacage has much more to offer:"
   ]
  },
  {
   "cell_type": "code",
   "execution_count": null,
   "metadata": {},
   "outputs": [],
   "source": []
  },
  {
   "cell_type": "markdown",
   "metadata": {},
   "source": [
    "## EDIT!!!! \n",
    "\n",
    "I realized that there is a county-view of the information stored in the website."
   ]
  },
  {
   "cell_type": "code",
   "execution_count": 179,
   "metadata": {},
   "outputs": [
    {
     "name": "stdout",
     "output_type": "stream",
     "text": [
      "2022-02-07 17:35:07 [scrapy.utils.log] INFO: Scrapy 2.5.1 started (bot: scrapybot)\n",
      "2022-02-07 17:35:07 [scrapy.utils.log] INFO: Versions: lxml 4.6.3.0, libxml2 2.9.10, cssselect 1.1.0, parsel 1.6.0, w3lib 1.22.0, Twisted 22.1.0, Python 3.8.8 (default, Apr 13 2021, 19:58:26) - [GCC 7.3.0], pyOpenSSL 20.0.1 (OpenSSL 1.1.1k  25 Mar 2021), cryptography 3.4.7, Platform Linux-5.10.16.3-microsoft-standard-WSL2-x86_64-with-glibc2.10\n",
      "2022-02-07 17:35:07 [scrapy.crawler] INFO: Overridden settings:\n",
      "{'AUTOTHROTTLE_ENABLED': True,\n",
      " 'AUTOTHROTTLE_START_DELAY': 1,\n",
      " 'AUTOTHROTTLE_TARGET_CONCURRENCY': 10.0,\n",
      " 'LOG_LEVEL': 'INFO',\n",
      " 'USER_AGENT': 'Wayback Machine Scraper/1.0.8 '\n",
      "               '(+https://github.com/sangaline/scrapy-wayback-machine)'}\n",
      "2022-02-07 17:35:07 [scrapy.extensions.telnet] INFO: Telnet Password: c31b665c8c38616c\n",
      "2022-02-07 17:35:07 [scrapy.middleware] INFO: Enabled extensions:\n",
      "['scrapy.extensions.corestats.CoreStats',\n",
      " 'scrapy.extensions.telnet.TelnetConsole',\n",
      " 'scrapy.extensions.memusage.MemoryUsage',\n",
      " 'scrapy.extensions.logstats.LogStats',\n",
      " 'scrapy.extensions.throttle.AutoThrottle']\n",
      "2022-02-07 17:35:07 [scrapy.middleware] INFO: Enabled downloader middlewares:\n",
      "['scrapy_wayback_machine.WaybackMachineMiddleware',\n",
      " 'scrapy.downloadermiddlewares.httpauth.HttpAuthMiddleware',\n",
      " 'scrapy.downloadermiddlewares.downloadtimeout.DownloadTimeoutMiddleware',\n",
      " 'scrapy.downloadermiddlewares.defaultheaders.DefaultHeadersMiddleware',\n",
      " 'scrapy.downloadermiddlewares.useragent.UserAgentMiddleware',\n",
      " 'scrapy.downloadermiddlewares.retry.RetryMiddleware',\n",
      " 'scrapy.downloadermiddlewares.redirect.MetaRefreshMiddleware',\n",
      " 'scrapy.downloadermiddlewares.httpcompression.HttpCompressionMiddleware',\n",
      " 'scrapy.downloadermiddlewares.redirect.RedirectMiddleware',\n",
      " 'scrapy.downloadermiddlewares.cookies.CookiesMiddleware',\n",
      " 'scrapy.downloadermiddlewares.httpproxy.HttpProxyMiddleware',\n",
      " 'scrapy.downloadermiddlewares.stats.DownloaderStats']\n",
      "2022-02-07 17:35:07 [scrapy.middleware] INFO: Enabled spider middlewares:\n",
      "['scrapy.spidermiddlewares.httperror.HttpErrorMiddleware',\n",
      " 'scrapy.spidermiddlewares.offsite.OffsiteMiddleware',\n",
      " 'scrapy.spidermiddlewares.referer.RefererMiddleware',\n",
      " 'scrapy.spidermiddlewares.urllength.UrlLengthMiddleware',\n",
      " 'scrapy.spidermiddlewares.depth.DepthMiddleware']\n",
      "2022-02-07 17:35:07 [scrapy.middleware] INFO: Enabled item pipelines:\n",
      "[]\n",
      "2022-02-07 17:35:07 [scrapy.core.engine] INFO: Spider opened\n",
      "2022-02-07 17:35:07 [scrapy.extensions.logstats] INFO: Crawled 0 pages (at 0 pages/min), scraped 0 items (at 0 items/min)\n",
      "2022-02-07 17:35:07 [scrapy.extensions.telnet] INFO: Telnet console listening on 127.0.0.1:6023\n",
      "2022-02-07 17:35:09 [scrapy.core.engine] INFO: Closing spider (finished)\n",
      "2022-02-07 17:35:09 [scrapy.statscollectors] INFO: Dumping Scrapy stats:\n",
      "{'downloader/request_bytes': 710,\n",
      " 'downloader/request_count': 2,\n",
      " 'downloader/request_method_count/GET': 2,\n",
      " 'downloader/response_bytes': 8660,\n",
      " 'downloader/response_count': 2,\n",
      " 'downloader/response_status_count/200': 2,\n",
      " 'elapsed_time_seconds': 2.188496,\n",
      " 'finish_reason': 'finished',\n",
      " 'finish_time': datetime.datetime(2022, 2, 7, 23, 35, 9, 365734),\n",
      " 'httpcompression/response_bytes': 20243,\n",
      " 'httpcompression/response_count': 2,\n",
      " 'log_count/INFO': 10,\n",
      " 'memusage/max': 192700416,\n",
      " 'memusage/startup': 192700416,\n",
      " 'response_received_count': 1,\n",
      " 'scheduler/dequeued': 3,\n",
      " 'scheduler/dequeued/memory': 3,\n",
      " 'scheduler/enqueued': 3,\n",
      " 'scheduler/enqueued/memory': 3,\n",
      " 'start_time': datetime.datetime(2022, 2, 7, 23, 35, 7, 177238)}\n",
      "2022-02-07 17:35:09 [scrapy.core.engine] INFO: Spider closed (finished)\n"
     ]
    }
   ],
   "source": [
    "! wayback-machine-scraper -a 'https://www.wicprograms.org/co/al-henry/' https://www.wicprograms.org/co/al-henry -o './data2/'"
   ]
  },
  {
   "cell_type": "code",
   "execution_count": null,
   "metadata": {},
   "outputs": [],
   "source": []
  }
 ],
 "metadata": {
  "interpreter": {
   "hash": "25ba7b2fce11290ff058c342a2e5c4e405c72fe334204cebd2d9f7aaf9db2ad5"
  },
  "kernelspec": {
   "display_name": "Python 3.9.7 64-bit ('base': conda)",
   "language": "python",
   "name": "python3"
  },
  "language_info": {
   "codemirror_mode": {
    "name": "ipython",
    "version": 3
   },
   "file_extension": ".py",
   "mimetype": "text/x-python",
   "name": "python",
   "nbconvert_exporter": "python",
   "pygments_lexer": "ipython3",
   "version": "3.8.8"
  },
  "orig_nbformat": 4
 },
 "nbformat": 4,
 "nbformat_minor": 2
}
