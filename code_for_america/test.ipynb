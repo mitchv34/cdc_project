{
 "cells": [
  {
   "cell_type": "code",
   "execution_count": 4,
   "metadata": {},
   "outputs": [],
   "source": [
    "import pandas as pd \n",
    "from bs4 import BeautifulSoup"
   ]
  },
  {
   "cell_type": "code",
   "execution_count": 2,
   "metadata": {},
   "outputs": [],
   "source": [
    "f = open(\"raw.html\", \"r\")\n",
    "raw = f.read()\n",
    "soup = BeautifulSoup(raw, 'lxml')\n",
    "raw_list = soup.find_all(\"div\", {\"class\": \"glyph\"})\n",
    "data_needed = ['data-state',\n",
    "                'data-programs',\n",
    "                'data-online-programs-count',\n",
    "                'data-most-combined-count']\n",
    "data_dict = {key:[] for key in data_needed}\n",
    "for s in raw_list:\n",
    "    for (k,v) in s.attrs.items():\n",
    "        if k != 'class':\n",
    "            data_dict[k].append(v)\n",
    "            \n",
    "data = pd.DataFrame(data_dict)"
   ]
  },
  {
   "cell_type": "code",
   "execution_count": 3,
   "metadata": {},
   "outputs": [],
   "source": [
    "data.to_csv(\"code_america_data.csv\", index=False)"
   ]
  },
  {
   "cell_type": "code",
   "execution_count": null,
   "metadata": {},
   "outputs": [],
   "source": []
  }
 ],
 "metadata": {
  "interpreter": {
   "hash": "499b90c3ba108225a956955f4ee00f7eaa5c3074d0b1eb2d34d52fdb49578540"
  },
  "kernelspec": {
   "display_name": "Python 3 (ipykernel)",
   "language": "python",
   "name": "python3"
  },
  "language_info": {
   "codemirror_mode": {
    "name": "ipython",
    "version": 3
   },
   "file_extension": ".py",
   "mimetype": "text/x-python",
   "name": "python",
   "nbconvert_exporter": "python",
   "pygments_lexer": "ipython3",
   "version": "3.9.7"
  }
 },
 "nbformat": 4,
 "nbformat_minor": 4
}
